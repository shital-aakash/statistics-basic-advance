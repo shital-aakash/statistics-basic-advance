{
  "nbformat": 4,
  "nbformat_minor": 0,
  "metadata": {
    "colab": {
      "provenance": []
    },
    "kernelspec": {
      "name": "python3",
      "display_name": "Python 3"
    },
    "language_info": {
      "name": "python"
    }
  },
  "cells": [
    {
      "cell_type": "markdown",
      "source": [
        "#Statistics Advance Part 1 (Theory)"
      ],
      "metadata": {
        "id": "MqcXguQqEtos"
      }
    },
    {
      "cell_type": "markdown",
      "source": [
        "1.What is a random variable in probability theory?\n",
        "    - In probability theory, a random variable is a numerical result of a random phenomenon. It's a function that assigns a numerical value to each possible outcome of a random experiment. Random variables can be discrete or continuous, depending on whether their values can only be a finite or infinite sequence of values, or any value within a given interval."
      ],
      "metadata": {
        "id": "iKQ7nZR8Ew7j"
      }
    },
    {
      "cell_type": "code",
      "source": [
        "#What is a random variable in probability theory?\n",
        "'''\n",
        "In probability theory, a random variable is a numerical result of a random phenomenon. It's a function that assigns a numerical value to each possible outcome of a random experiment. Random variables can be discrete or continuous, depending on whether their values can only be a finite or infinite sequence of values, or any value within a given interval.\n",
        "'''"
      ],
      "metadata": {
        "colab": {
          "base_uri": "https://localhost:8080/",
          "height": 87
        },
        "id": "6J0bRcUgExpj",
        "outputId": "17df754b-2e35-4c11-ab8b-3b53a3c4d728"
      },
      "execution_count": 1,
      "outputs": [
        {
          "output_type": "execute_result",
          "data": {
            "text/plain": [
              "\"\\nIn probability theory, a random variable is a numerical result of a random phenomenon. It's a function that assigns a numerical value to each possible outcome of a random experiment. Random variables can be discrete or continuous, depending on whether their values can only be a finite or infinite sequence of values, or any value within a given interval. \\n\""
            ],
            "application/vnd.google.colaboratory.intrinsic+json": {
              "type": "string"
            }
          },
          "metadata": {},
          "execution_count": 1
        }
      ]
    },
    {
      "cell_type": "markdown",
      "source": [
        "2. What are the types of random variables?\n",
        "    - Random variables can be broadly classified into two types: discrete and continuous."
      ],
      "metadata": {
        "id": "fKJ3qbH9FAH7"
      }
    },
    {
      "cell_type": "code",
      "source": [
        "# What are the types of random variables?\n",
        "'''\n",
        "Random variables can be broadly classified into two types: discrete and continuous.\n",
        "'''"
      ],
      "metadata": {
        "colab": {
          "base_uri": "https://localhost:8080/",
          "height": 35
        },
        "id": "TM6LixqiEwUe",
        "outputId": "2792cb88-2ec4-44f1-8462-e438b06870ea"
      },
      "execution_count": 2,
      "outputs": [
        {
          "output_type": "execute_result",
          "data": {
            "text/plain": [
              "'\\nRandom variables can be broadly classified into two types: discrete and continuous. \\n'"
            ],
            "application/vnd.google.colaboratory.intrinsic+json": {
              "type": "string"
            }
          },
          "metadata": {},
          "execution_count": 2
        }
      ]
    },
    {
      "cell_type": "markdown",
      "source": [
        "3.What is the difference between discrete and continuous distributions?\n",
        "    - Discrete distributions deal with countable or finite values, while continuous distributions handle values within a range, often an infinite range."
      ],
      "metadata": {
        "id": "7xGBSJCGFLUq"
      }
    },
    {
      "cell_type": "code",
      "source": [
        "#What is the difference between discrete and continuous distributions?\n",
        "'''\n",
        "Discrete distributions deal with countable or finite values, while continuous distributions handle values within a range, often an infinite range.\n",
        "'''"
      ],
      "metadata": {
        "colab": {
          "base_uri": "https://localhost:8080/",
          "height": 52
        },
        "id": "g9RrAT3CFK0V",
        "outputId": "15f2d280-dbc3-4e7c-b13a-6dde45bd4b48"
      },
      "execution_count": 3,
      "outputs": [
        {
          "output_type": "execute_result",
          "data": {
            "text/plain": [
              "'\\nDiscrete distributions deal with countable or finite values, while continuous distributions handle values within a range, often an infinite range.\\n'"
            ],
            "application/vnd.google.colaboratory.intrinsic+json": {
              "type": "string"
            }
          },
          "metadata": {},
          "execution_count": 3
        }
      ]
    },
    {
      "cell_type": "markdown",
      "source": [
        "4.What are probability distribution functions (PDF)?\n",
        "   - A probability distribution is a mathematical function that describes the probability of different possible values of a variable. Probability distributions are often depicted using graphs or probability tables."
      ],
      "metadata": {
        "id": "dbYjk0xyFWcB"
      }
    },
    {
      "cell_type": "code",
      "source": [
        "#What are probability distribution functions (PDF)?\n",
        "'''\n",
        "A probability distribution is a mathematical function that describes the probability of different possible values of a variable. Probability distributions are often depicted using graphs or probability tables.\n",
        "'''"
      ],
      "metadata": {
        "colab": {
          "base_uri": "https://localhost:8080/",
          "height": 70
        },
        "id": "vEGJfSNyFVgV",
        "outputId": "233947d6-c552-467a-e380-04098b0a428d"
      },
      "execution_count": 4,
      "outputs": [
        {
          "output_type": "execute_result",
          "data": {
            "text/plain": [
              "'\\nA probability distribution is a mathematical function that describes the probability of different possible values of a variable. Probability distributions are often depicted using graphs or probability tables.\\n'"
            ],
            "application/vnd.google.colaboratory.intrinsic+json": {
              "type": "string"
            }
          },
          "metadata": {},
          "execution_count": 4
        }
      ]
    },
    {
      "cell_type": "markdown",
      "source": [
        "5. How do cumulative distribution functions (CDF) differ from probability distribution functions (PDF)?\n",
        "     - A PDF describes the probability density of a continuous random variable at a specific point, while a CDF describes the probability that a random variable is less than or equal to a specific value."
      ],
      "metadata": {
        "id": "6JAbUEtqFhbB"
      }
    },
    {
      "cell_type": "code",
      "source": [
        "#How do cumulative distribution functions (CDF) differ from probability distribution functions (PDF)?\n",
        "'''\n",
        "A PDF describes the probability density of a continuous random variable at a specific point, while a CDF describes the probability that a random variable is less than or equal to a specific value.\n",
        "'''"
      ],
      "metadata": {
        "colab": {
          "base_uri": "https://localhost:8080/",
          "height": 70
        },
        "id": "um7wLbxNFg00",
        "outputId": "8e8dee9d-0758-4501-b44c-8d800f778953"
      },
      "execution_count": 5,
      "outputs": [
        {
          "output_type": "execute_result",
          "data": {
            "text/plain": [
              "'\\nA PDF describes the probability density of a continuous random variable at a specific point, while a CDF describes the probability that a random variable is less than or equal to a specific value. \\n'"
            ],
            "application/vnd.google.colaboratory.intrinsic+json": {
              "type": "string"
            }
          },
          "metadata": {},
          "execution_count": 5
        }
      ]
    },
    {
      "cell_type": "markdown",
      "source": [
        "6.What is a discrete uniform distribution?\n",
        "   - A \"uniform distribution\" means all possible outcomes in the range have equal probability of occurring. These two pieces build to create a continuous uniform distribution. The mean of a continuous uniform distribution between bounds a and b has a simple formula: μ = a + b 2 ."
      ],
      "metadata": {
        "id": "IgEMag1HFvGQ"
      }
    },
    {
      "cell_type": "code",
      "source": [
        "#What is a discrete uniform distribution\n",
        "'''\n",
        "A \"uniform distribution\" means all possible outcomes in the range have equal probability of occurring. These two pieces build to create a continuous uniform distribution. The mean of a continuous uniform distribution between bounds a and b has a simple formula: μ = a + b 2 .\n",
        "'''"
      ],
      "metadata": {
        "colab": {
          "base_uri": "https://localhost:8080/",
          "height": 70
        },
        "id": "_1ITBrZjFucD",
        "outputId": "e7acc5ff-396b-4f9f-f975-b1ac66d2f1f3"
      },
      "execution_count": 6,
      "outputs": [
        {
          "output_type": "execute_result",
          "data": {
            "text/plain": [
              "'\\nA \"uniform distribution\" means all possible outcomes in the range have equal probability of occurring. These two pieces build to create a continuous uniform distribution. The mean of a continuous uniform distribution between bounds a and b has a simple formula: μ = a + b 2 .\\n'"
            ],
            "application/vnd.google.colaboratory.intrinsic+json": {
              "type": "string"
            }
          },
          "metadata": {},
          "execution_count": 6
        }
      ]
    },
    {
      "cell_type": "markdown",
      "source": [
        "7.What are the key properties of a Bernoulli distribution?\n",
        "   - The Bernoulli distribution is a discrete probability distribution with only two possible outcomes, typically labeled \"success\" (1) or \"failure\" (0). It's characterized by a probability of success (p) and a probability of failure (1-p), which must sum to 1. The distribution models a single trial where the outcome is either success or failure, and these trials are independent."
      ],
      "metadata": {
        "id": "HK5BSx7MF8Ff"
      }
    },
    {
      "cell_type": "code",
      "source": [
        "#What are the key properties of a Bernoulli distribution?\n",
        "'''\n",
        "The Bernoulli distribution is a discrete probability distribution with only two possible outcomes, typically labeled \"success\" (1) or \"failure\" (0). It's characterized by a probability of success (p) and a probability of failure (1-p), which must sum to 1. The distribution models a single trial where the outcome is either success or failure, and these trials are independent.\n",
        "'''"
      ],
      "metadata": {
        "colab": {
          "base_uri": "https://localhost:8080/",
          "height": 87
        },
        "id": "FuT2XTv-F7oz",
        "outputId": "4237644b-1143-45f0-84ba-8582b446b7cf"
      },
      "execution_count": 7,
      "outputs": [
        {
          "output_type": "execute_result",
          "data": {
            "text/plain": [
              "'\\nThe Bernoulli distribution is a discrete probability distribution with only two possible outcomes, typically labeled \"success\" (1) or \"failure\" (0). It\\'s characterized by a probability of success (p) and a probability of failure (1-p), which must sum to 1. The distribution models a single trial where the outcome is either success or failure, and these trials are independent. \\n'"
            ],
            "application/vnd.google.colaboratory.intrinsic+json": {
              "type": "string"
            }
          },
          "metadata": {},
          "execution_count": 7
        }
      ]
    },
    {
      "cell_type": "markdown",
      "source": [
        "8.What is the binomial distribution, and how is it used in probability?\n",
        "    - The binomial distribution is a probability distribution that models the probability of a certain number of successes in a fixed number of independent trials, where each trial has only two possible outcomes (success or failure) and the probability of success remains constant across all trials. It's used in probability to calculate the likelihood of a specific number of successes when repeating an experiment with a fixed probability of success."
      ],
      "metadata": {
        "id": "nlMH8YAqGG8f"
      }
    },
    {
      "cell_type": "code",
      "source": [
        "#What is the binomial distribution, and how is it used in probability?\n",
        "'''\n",
        "The binomial distribution is a probability distribution that models the probability of a certain number of successes in a fixed number of independent trials, where each trial has only two possible outcomes (success or failure) and the probability of success remains constant across all trials. It's used in probability to calculate the likelihood of a specific number of successes when repeating an experiment with a fixed probability of success.\n",
        "'''"
      ],
      "metadata": {
        "colab": {
          "base_uri": "https://localhost:8080/",
          "height": 104
        },
        "id": "QQQlTCCeGGiS",
        "outputId": "45b7ff21-0059-4d60-d14a-2bc893e51d72"
      },
      "execution_count": 8,
      "outputs": [
        {
          "output_type": "execute_result",
          "data": {
            "text/plain": [
              "\"\\nThe binomial distribution is a probability distribution that models the probability of a certain number of successes in a fixed number of independent trials, where each trial has only two possible outcomes (success or failure) and the probability of success remains constant across all trials. It's used in probability to calculate the likelihood of a specific number of successes when repeating an experiment with a fixed probability of success. \\n\""
            ],
            "application/vnd.google.colaboratory.intrinsic+json": {
              "type": "string"
            }
          },
          "metadata": {},
          "execution_count": 8
        }
      ]
    },
    {
      "cell_type": "markdown",
      "source": [
        "9.What is the Poisson distribution and where is it applied?\n",
        "    - The Poisson distribution is a discrete probability distribution that models the probability of a certain number of events occurring within a specific time or space interval, assuming these events happen randomly and independently of each other at a known average rate. It's particularly useful for situations where the probability of an event happening is small but the average rate of occurrence is known."
      ],
      "metadata": {
        "id": "ZYQgjZnDGTj2"
      }
    },
    {
      "cell_type": "code",
      "source": [
        "#What is the Poisson distribution and where is it applied?\n",
        "'''\n",
        "The Poisson distribution is a discrete probability distribution that models the probability of a certain number of events occurring within a specific time or space interval, assuming these events happen randomly and independently of each other at a known average rate. It's particularly useful for situations where the probability of an event happening is small but the average rate of occurrence is known.\n",
        "'''"
      ],
      "metadata": {
        "colab": {
          "base_uri": "https://localhost:8080/",
          "height": 104
        },
        "id": "zqCRNU00GSiK",
        "outputId": "60c895f9-464a-4743-d33a-ad4f2746a62f"
      },
      "execution_count": 9,
      "outputs": [
        {
          "output_type": "execute_result",
          "data": {
            "text/plain": [
              "\"\\nThe Poisson distribution is a discrete probability distribution that models the probability of a certain number of events occurring within a specific time or space interval, assuming these events happen randomly and independently of each other at a known average rate. It's particularly useful for situations where the probability of an event happening is small but the average rate of occurrence is known. \\n\""
            ],
            "application/vnd.google.colaboratory.intrinsic+json": {
              "type": "string"
            }
          },
          "metadata": {},
          "execution_count": 9
        }
      ]
    },
    {
      "cell_type": "markdown",
      "source": [
        "10.What is a continuous uniform distribution?\n",
        "    - The continuous uniform distribution is such that the random variable X takes values between a (lower limit) and b (upper limit)."
      ],
      "metadata": {
        "id": "EX5fSEqXG2Bt"
      }
    },
    {
      "cell_type": "code",
      "source": [
        "#What is a continuous uniform distribution?\n",
        "'''\n",
        "The continuous uniform distribution is such that the random variable X takes values between a (lower limit) and b (upper limit).\n",
        "'''"
      ],
      "metadata": {
        "colab": {
          "base_uri": "https://localhost:8080/",
          "height": 52
        },
        "id": "dNfVV9ooGzng",
        "outputId": "dc64f58c-3916-415d-cb96-16276d0d016d"
      },
      "execution_count": 10,
      "outputs": [
        {
          "output_type": "execute_result",
          "data": {
            "text/plain": [
              "'\\nThe continuous uniform distribution is such that the random variable X takes values between a (lower limit) and b (upper limit).\\n'"
            ],
            "application/vnd.google.colaboratory.intrinsic+json": {
              "type": "string"
            }
          },
          "metadata": {},
          "execution_count": 10
        }
      ]
    },
    {
      "cell_type": "markdown",
      "source": [
        "11.What are the characteristics of a normal distribution?\n",
        "   - Properties of the Normal distribution | CFA Level 1A normal distribution, also known as a Gaussian distribution, is characterized by its bell-shaped curve, symmetry, and the equality of its mean, median, and mode. It is defined by its mean and standard deviation, and is often used in statistics to model real-world data."
      ],
      "metadata": {
        "id": "YxXMAO2YHC5M"
      }
    },
    {
      "cell_type": "code",
      "source": [
        "#What are the characteristics of a normal distribution?\n",
        "'''\n",
        "Properties of the Normal distribution | CFA Level 1A normal distribution, also known as a Gaussian distribution, is characterized by its bell-shaped curve, symmetry, and the equality of its mean, median, and mode. It is defined by its mean and standard deviation, and is often used in statistics to model real-world data.\n",
        "'''"
      ],
      "metadata": {
        "colab": {
          "base_uri": "https://localhost:8080/",
          "height": 87
        },
        "id": "xMHNIVfzHCRI",
        "outputId": "e60569db-6229-48cb-cef2-2eb0b5a0f684"
      },
      "execution_count": 11,
      "outputs": [
        {
          "output_type": "execute_result",
          "data": {
            "text/plain": [
              "'\\nProperties of the Normal distribution | CFA Level 1A normal distribution, also known as a Gaussian distribution, is characterized by its bell-shaped curve, symmetry, and the equality of its mean, median, and mode. It is defined by its mean and standard deviation, and is often used in statistics to model real-world data. \\n'"
            ],
            "application/vnd.google.colaboratory.intrinsic+json": {
              "type": "string"
            }
          },
          "metadata": {},
          "execution_count": 11
        }
      ]
    },
    {
      "cell_type": "markdown",
      "source": [
        "12.What is the standard normal distribution, and why is it important?\n",
        "   - The standard normal distribution is a specific type of normal distribution with a mean of 0 and a standard deviation of 1. It's crucial because it allows us to standardize any normal distribution, making probability calculations and comparisons across different distributions easier."
      ],
      "metadata": {
        "id": "FgftQaH-HSXU"
      }
    },
    {
      "cell_type": "code",
      "source": [
        "#What is the standard normal distribution, and why is it important?\n",
        "'''\n",
        "The standard normal distribution is a specific type of normal distribution with a mean of 0 and a standard deviation of 1. It's crucial because it allows us to standardize any normal distribution, making probability calculations and comparisons across different distributions easier.\n",
        "'''"
      ],
      "metadata": {
        "colab": {
          "base_uri": "https://localhost:8080/",
          "height": 70
        },
        "id": "cnsCVeeTHR1_",
        "outputId": "3d9848af-f49a-49a4-b5bc-b2ea257b45a8"
      },
      "execution_count": 12,
      "outputs": [
        {
          "output_type": "execute_result",
          "data": {
            "text/plain": [
              "\"\\nThe standard normal distribution is a specific type of normal distribution with a mean of 0 and a standard deviation of 1. It's crucial because it allows us to standardize any normal distribution, making probability calculations and comparisons across different distributions easier. \\n\""
            ],
            "application/vnd.google.colaboratory.intrinsic+json": {
              "type": "string"
            }
          },
          "metadata": {},
          "execution_count": 12
        }
      ]
    },
    {
      "cell_type": "markdown",
      "source": [
        "13.What is the Central Limit Theorem (CLT), and why is it critical in statistics?\n",
        "   - The Central Limit Theorem (CLT) is a foundational concept in statistics that states that when you take many samples from a population and calculate the average of each sample, the distribution of those sample averages will approach a normal (bell-shaped) distribution, regardless of the original population's distribution, as long as the sample size is sufficiently large. This is crucial because it allows statisticians to use the properties of the normal distribution (like its mean, variance, and probability calculations) to make inferences about a population, even if the original population isn't normally distributed."
      ],
      "metadata": {
        "id": "EDhvhuscHhkC"
      }
    },
    {
      "cell_type": "code",
      "source": [
        "#What is the Central Limit Theorem (CLT), and why is it critical in statistics?\n",
        "'''\n",
        "The Central Limit Theorem (CLT) is a foundational concept in statistics that states that when you take many samples from a population and calculate the average of each sample, the distribution of those sample averages will approach a normal (bell-shaped) distribution, regardless of the original population's distribution, as long as the sample size is sufficiently large. This is crucial because it allows statisticians to use the properties of the normal distribution (like its mean, variance, and probability calculations) to make inferences about a population, even if the original population isn't normally distributed.\n",
        "'''"
      ],
      "metadata": {
        "colab": {
          "base_uri": "https://localhost:8080/",
          "height": 139
        },
        "id": "kqVDI9FdHhDe",
        "outputId": "2a15ebe8-c4d2-44a0-b749-d07431157ce1"
      },
      "execution_count": 13,
      "outputs": [
        {
          "output_type": "execute_result",
          "data": {
            "text/plain": [
              "\"\\nThe Central Limit Theorem (CLT) is a foundational concept in statistics that states that when you take many samples from a population and calculate the average of each sample, the distribution of those sample averages will approach a normal (bell-shaped) distribution, regardless of the original population's distribution, as long as the sample size is sufficiently large. This is crucial because it allows statisticians to use the properties of the normal distribution (like its mean, variance, and probability calculations) to make inferences about a population, even if the original population isn't normally distributed. \\n\""
            ],
            "application/vnd.google.colaboratory.intrinsic+json": {
              "type": "string"
            }
          },
          "metadata": {},
          "execution_count": 13
        }
      ]
    },
    {
      "cell_type": "markdown",
      "source": [
        "14.How does the Central Limit Theorem relate to the normal distribution?\n",
        "   - The Central Limit Theorem (CLT) establishes a link between the normal distribution and the distribution of sample means. It states that, for sufficiently large samples, the distribution of the sample means will approximate a normal distribution, regardless of the underlying population's distribution."
      ],
      "metadata": {
        "id": "Fw8KJb6MHyZZ"
      }
    },
    {
      "cell_type": "code",
      "source": [
        "#How does the Central Limit Theorem relate to the normal distribution?\n",
        "'''\n",
        "The Central Limit Theorem (CLT) establishes a link between the normal distribution and the distribution of sample means. It states that, for sufficiently large samples, the distribution of the sample means will approximate a normal distribution, regardless of the underlying population's distribution.\n",
        "'''"
      ],
      "metadata": {
        "colab": {
          "base_uri": "https://localhost:8080/",
          "height": 87
        },
        "id": "Ke2HrJEzHxtt",
        "outputId": "0cb957c6-2bb1-4dd1-86c4-9c2e025b708d"
      },
      "execution_count": 14,
      "outputs": [
        {
          "output_type": "execute_result",
          "data": {
            "text/plain": [
              "\"\\nThe Central Limit Theorem (CLT) establishes a link between the normal distribution and the distribution of sample means. It states that, for sufficiently large samples, the distribution of the sample means will approximate a normal distribution, regardless of the underlying population's distribution. \\n\""
            ],
            "application/vnd.google.colaboratory.intrinsic+json": {
              "type": "string"
            }
          },
          "metadata": {},
          "execution_count": 14
        }
      ]
    },
    {
      "cell_type": "markdown",
      "source": [
        "15.What is the application of Z statistics in hypothesis testing?\n",
        "   - Z-statistics are used in hypothesis testing to determine if there's a statistically significant difference between a sample mean and a population mean, or between the means of two groups."
      ],
      "metadata": {
        "id": "H6wz9t0zIE25"
      }
    },
    {
      "cell_type": "code",
      "source": [
        "#What is the application of Z statistics in hypothesis testing?\n",
        "'''\n",
        "Z-statistics are used in hypothesis testing to determine if there's a statistically significant difference between a sample mean and a population mean, or between the means of two groups.\n",
        "'''"
      ],
      "metadata": {
        "colab": {
          "base_uri": "https://localhost:8080/",
          "height": 52
        },
        "id": "CeJqu_aPIEWk",
        "outputId": "c016d367-50bd-4f4f-a0a6-711d3e6fe2a3"
      },
      "execution_count": 15,
      "outputs": [
        {
          "output_type": "execute_result",
          "data": {
            "text/plain": [
              "\"\\nZ-statistics are used in hypothesis testing to determine if there's a statistically significant difference between a sample mean and a population mean, or between the means of two groups.\\n\""
            ],
            "application/vnd.google.colaboratory.intrinsic+json": {
              "type": "string"
            }
          },
          "metadata": {},
          "execution_count": 15
        }
      ]
    },
    {
      "cell_type": "markdown",
      "source": [
        "16.How do you calculate a Z-score, and what does it represent?\n",
        "    -  Z-score represents how many standard deviations a particular data point is away from the mean (average) of a distribution. It's calculated by subtracting the mean from the data point and then dividing the result by the standard deviation. A positive Z-score indicates the data point is above the mean, a negative Z-score indicates it's below the mean, and a Z-score of 0 means the data point is equal to the mean."
      ],
      "metadata": {
        "id": "kDxiNn00ISyg"
      }
    },
    {
      "cell_type": "code",
      "source": [
        "#How do you calculate a Z-score, and what does it represent?\n",
        "'''\n",
        " Z-score represents how many standard deviations a particular data point is away from the mean (average) of a distribution. It's calculated by subtracting the mean from the data point and then dividing the result by the standard deviation. A positive Z-score indicates the data point is above the mean, a negative Z-score indicates it's below the mean, and a Z-score of 0 means the data point is equal to the mean.\n",
        "'''"
      ],
      "metadata": {
        "colab": {
          "base_uri": "https://localhost:8080/",
          "height": 104
        },
        "id": "du_8CfdMIOxU",
        "outputId": "8e1c3119-0591-45a8-ded6-1c1a966bba0d"
      },
      "execution_count": 16,
      "outputs": [
        {
          "output_type": "execute_result",
          "data": {
            "text/plain": [
              "\"\\n Z-score represents how many standard deviations a particular data point is away from the mean (average) of a distribution. It's calculated by subtracting the mean from the data point and then dividing the result by the standard deviation. A positive Z-score indicates the data point is above the mean, a negative Z-score indicates it's below the mean, and a Z-score of 0 means the data point is equal to the mean. \\n\""
            ],
            "application/vnd.google.colaboratory.intrinsic+json": {
              "type": "string"
            }
          },
          "metadata": {},
          "execution_count": 16
        }
      ]
    },
    {
      "cell_type": "markdown",
      "source": [
        "17.What are point estimates and interval estimates in statistics?\n",
        "   - n statistics, a point estimate is a single value used to estimate an unknown population parameter, while an interval estimate provides a range of values within which the population parameter is likely to lie."
      ],
      "metadata": {
        "id": "1EpbKmZcInU_"
      }
    },
    {
      "cell_type": "code",
      "source": [
        "#What are point estimates and interval estimates in statistics?\n",
        "'''\n",
        "n statistics, a point estimate is a single value used to estimate an unknown population parameter, while an interval estimate provides a range of values within which the population parameter is likely to lie.\n",
        "'''"
      ],
      "metadata": {
        "colab": {
          "base_uri": "https://localhost:8080/",
          "height": 70
        },
        "id": "nGcROelFIm-L",
        "outputId": "4bfe7929-1a1f-4df6-ccb4-001555ea6086"
      },
      "execution_count": 17,
      "outputs": [
        {
          "output_type": "execute_result",
          "data": {
            "text/plain": [
              "'\\nn statistics, a point estimate is a single value used to estimate an unknown population parameter, while an interval estimate provides a range of values within which the population parameter is likely to lie. \\n'"
            ],
            "application/vnd.google.colaboratory.intrinsic+json": {
              "type": "string"
            }
          },
          "metadata": {},
          "execution_count": 17
        }
      ]
    },
    {
      "cell_type": "markdown",
      "source": [
        "18.What is the significance of confidence intervals in statistical analysis?\n",
        "   - Confidence intervals in statistical analysis are crucial for understanding the precision and reliability of estimates, offering a range of plausible values for the true population parameter rather than just a single point estimate. They provide a more comprehensive view of uncertainty and allow for more informed decision-making in data analysis and hypothesis testing."
      ],
      "metadata": {
        "id": "veW8n74FIywv"
      }
    },
    {
      "cell_type": "code",
      "source": [
        "#What is the significance of confidence intervals in statistical analysis?\n",
        "'''\n",
        "Confidence intervals in statistical analysis are crucial for understanding the precision and reliability of estimates, offering a range of plausible values for the true population parameter rather than just a single point estimate. They provide a more comprehensive view of uncertainty and allow for more informed decision-making in data analysis and hypothesis testing.\n",
        "'''"
      ],
      "metadata": {
        "colab": {
          "base_uri": "https://localhost:8080/",
          "height": 87
        },
        "id": "P7y_YUkyIyVq",
        "outputId": "f9a55178-6525-47ef-a7c0-53e7beaa37fa"
      },
      "execution_count": 18,
      "outputs": [
        {
          "output_type": "execute_result",
          "data": {
            "text/plain": [
              "'\\nConfidence intervals in statistical analysis are crucial for understanding the precision and reliability of estimates, offering a range of plausible values for the true population parameter rather than just a single point estimate. They provide a more comprehensive view of uncertainty and allow for more informed decision-making in data analysis and hypothesis testing. \\n'"
            ],
            "application/vnd.google.colaboratory.intrinsic+json": {
              "type": "string"
            }
          },
          "metadata": {},
          "execution_count": 18
        }
      ]
    },
    {
      "cell_type": "markdown",
      "source": [
        "19.What is the relationship between a Z-score and a confidence interval?\n",
        "   - A Z-score and a confidence interval are related through the Z-score's role in defining the margins of error within a confidence interval. The Z-score, which represents how many standard deviations a data point is from the mean, is used to determine the critical values that define the lower and upper bounds of a confidence interval, especially when working with normal distributions."
      ],
      "metadata": {
        "id": "WgptOpUwJKbF"
      }
    },
    {
      "cell_type": "code",
      "source": [
        "#What is the relationship between a Z-score and a confidence interval?\n",
        "'''\n",
        "A Z-score and a confidence interval are related through the Z-score's role in defining the margins of error within a confidence interval. The Z-score, which represents how many standard deviations a data point is from the mean, is used to determine the critical values that define the lower and upper bounds of a confidence interval, especially when working with normal distributions.\n",
        "'''"
      ],
      "metadata": {
        "colab": {
          "base_uri": "https://localhost:8080/",
          "height": 104
        },
        "id": "6i4MelE9JG75",
        "outputId": "177c9722-f2c0-475c-ab26-7ed7acfd69c8"
      },
      "execution_count": 19,
      "outputs": [
        {
          "output_type": "execute_result",
          "data": {
            "text/plain": [
              "\"\\nA Z-score and a confidence interval are related through the Z-score's role in defining the margins of error within a confidence interval. The Z-score, which represents how many standard deviations a data point is from the mean, is used to determine the critical values that define the lower and upper bounds of a confidence interval, especially when working with normal distributions. \\n\""
            ],
            "application/vnd.google.colaboratory.intrinsic+json": {
              "type": "string"
            }
          },
          "metadata": {},
          "execution_count": 19
        }
      ]
    },
    {
      "cell_type": "markdown",
      "source": [
        "20.How are Z-scores used to compare different distributions?\n",
        "   - Z-scores are used to compare different distributions by standardizing data points, allowing for meaningful comparisons even when datasets have different means and standard deviations. They essentially convert raw data into a common scale (standard normal distribution) where the mean is 0 and the standard deviation is 1. This allows you to see how far a particular data point is from the mean in terms of standard deviations, making it easy to compare relative positions across different distributions."
      ],
      "metadata": {
        "id": "q8k0Wn11JeeO"
      }
    },
    {
      "cell_type": "code",
      "source": [
        "#How are Z-scores used to compare different distributions?\n",
        "'''\n",
        "Z-scores are used to compare different distributions by standardizing data points, allowing for meaningful comparisons even when datasets have different means and standard deviations. They essentially convert raw data into a common scale (standard normal distribution) where the mean is 0 and the standard deviation is 1. This allows you to see how far a particular data point is from the mean in terms of standard deviations, making it easy to compare relative positions across different distributions.\n",
        "'''"
      ],
      "metadata": {
        "colab": {
          "base_uri": "https://localhost:8080/",
          "height": 122
        },
        "id": "MKpwqDQjJeEY",
        "outputId": "c13f90e8-495c-4c3e-b1a0-2980eb3aee56"
      },
      "execution_count": 20,
      "outputs": [
        {
          "output_type": "execute_result",
          "data": {
            "text/plain": [
              "'\\nZ-scores are used to compare different distributions by standardizing data points, allowing for meaningful comparisons even when datasets have different means and standard deviations. They essentially convert raw data into a common scale (standard normal distribution) where the mean is 0 and the standard deviation is 1. This allows you to see how far a particular data point is from the mean in terms of standard deviations, making it easy to compare relative positions across different distributions. \\n'"
            ],
            "application/vnd.google.colaboratory.intrinsic+json": {
              "type": "string"
            }
          },
          "metadata": {},
          "execution_count": 20
        }
      ]
    },
    {
      "cell_type": "markdown",
      "source": [
        "21.What are the assumptions for applying the Central Limit Theorem?\n",
        "   - Central Limit Theorem (CLT): Definition and Key CharacteristicsThe Central Limit Theorem (CLT) has a few key assumptions for its validity: The sample must be drawn randomly, samples should be independent of each other, and the sample size should be sufficiently large (often at least 30). When sampling without replacement, the sample size shouldn't exceed 10% of the total population. Additionally, the population should have a finite mean and variance."
      ],
      "metadata": {
        "id": "eqUBlmebJ1uE"
      }
    },
    {
      "cell_type": "code",
      "source": [
        "#What are the assumptions for applying the Central Limit Theorem?\n",
        "'''\n",
        "Central Limit Theorem (CLT): Definition and Key CharacteristicsThe Central Limit Theorem (CLT) has a few key assumptions for its validity: The sample must be drawn randomly, samples should be independent of each other, and the sample size should be sufficiently large (often at least 30). When sampling without replacement, the sample size shouldn't exceed 10% of the total population. Additionally, the population should have a finite mean and variance.\n",
        "'''"
      ],
      "metadata": {
        "colab": {
          "base_uri": "https://localhost:8080/",
          "height": 104
        },
        "id": "eV2BE_d4J1Xe",
        "outputId": "202ec18a-8bbd-41ee-88e0-632f5333e396"
      },
      "execution_count": 21,
      "outputs": [
        {
          "output_type": "execute_result",
          "data": {
            "text/plain": [
              "\"\\nCentral Limit Theorem (CLT): Definition and Key CharacteristicsThe Central Limit Theorem (CLT) has a few key assumptions for its validity: The sample must be drawn randomly, samples should be independent of each other, and the sample size should be sufficiently large (often at least 30). When sampling without replacement, the sample size shouldn't exceed 10% of the total population. Additionally, the population should have a finite mean and variance. \\n\""
            ],
            "application/vnd.google.colaboratory.intrinsic+json": {
              "type": "string"
            }
          },
          "metadata": {},
          "execution_count": 21
        }
      ]
    },
    {
      "cell_type": "markdown",
      "source": [
        "22.What is the concept of expected value in a probability distribution?\n",
        "   - The expected value in a probability distribution is a weighted average of all possible outcomes, where each outcome is weighted by its probability of occurrence. It represents the long-term average value you would expect to observe if you repeated the random experiment a large number of times."
      ],
      "metadata": {
        "id": "aStNdIwGJ_F8"
      }
    },
    {
      "cell_type": "code",
      "source": [
        "#What is the concept of expected value in a probability distribution?\n",
        "'''\n",
        "The expected value in a probability distribution is a weighted average of all possible outcomes, where each outcome is weighted by its probability of occurrence. It represents the long-term average value you would expect to observe if you repeated the random experiment a large number of times.\n",
        "'''"
      ],
      "metadata": {
        "colab": {
          "base_uri": "https://localhost:8080/",
          "height": 87
        },
        "id": "-r1jh9BnJ-yv",
        "outputId": "6c4256ce-55ab-4d8f-8d4d-b170062d5ce5"
      },
      "execution_count": 22,
      "outputs": [
        {
          "output_type": "execute_result",
          "data": {
            "text/plain": [
              "'\\nThe expected value in a probability distribution is a weighted average of all possible outcomes, where each outcome is weighted by its probability of occurrence. It represents the long-term average value you would expect to observe if you repeated the random experiment a large number of times. \\n'"
            ],
            "application/vnd.google.colaboratory.intrinsic+json": {
              "type": "string"
            }
          },
          "metadata": {},
          "execution_count": 22
        }
      ]
    },
    {
      "cell_type": "markdown",
      "source": [
        "23.How does a probability distribution relate to the expected outcome of a random variable?\n",
        "   - A probability distribution describes the likelihood of different outcomes for a random variable, and the expected value (or mean) of that variable is a weighted average of its possible values, with the weights being the probabilities from the distribution. In essence, the expected value summarizes the central tendency of the distribution."
      ],
      "metadata": {
        "id": "i8S9RryiKIRz"
      }
    },
    {
      "cell_type": "code",
      "source": [
        "#How does a probability distribution relate to the expected outcome of a random variable?\n",
        "'''\n",
        "A probability distribution describes the likelihood of different outcomes for a random variable, and the expected value (or mean) of that variable is a weighted average of its possible values, with the weights being the probabilities from the distribution. In essence, the expected value summarizes the central tendency of the distribution.\n",
        "'''"
      ],
      "metadata": {
        "colab": {
          "base_uri": "https://localhost:8080/",
          "height": 87
        },
        "id": "D6hAWvb1KH0u",
        "outputId": "8f53405d-e8ba-413d-d0c3-798d077f375f"
      },
      "execution_count": 23,
      "outputs": [
        {
          "output_type": "execute_result",
          "data": {
            "text/plain": [
              "'\\nA probability distribution describes the likelihood of different outcomes for a random variable, and the expected value (or mean) of that variable is a weighted average of its possible values, with the weights being the probabilities from the distribution. In essence, the expected value summarizes the central tendency of the distribution. \\n'"
            ],
            "application/vnd.google.colaboratory.intrinsic+json": {
              "type": "string"
            }
          },
          "metadata": {},
          "execution_count": 23
        }
      ]
    }
  ]
}